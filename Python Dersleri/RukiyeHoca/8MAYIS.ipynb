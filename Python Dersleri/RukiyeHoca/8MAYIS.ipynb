{
 "cells": [
  {
   "cell_type": "code",
   "execution_count": 55,
   "id": "60a00cb0",
   "metadata": {},
   "outputs": [
    {
     "name": "stdout",
     "output_type": "stream",
     "text": [
      "25.12\n"
     ]
    }
   ],
   "source": [
    "import modul_dene\n",
    "sonuc=modul_dene.cember_cevresi(4)\n",
    "print(sonuc)"
   ]
  },
  {
   "cell_type": "code",
   "execution_count": 57,
   "id": "8ac3f8c4",
   "metadata": {},
   "outputs": [
    {
     "name": "stdout",
     "output_type": "stream",
     "text": [
      "50.24\n"
     ]
    }
   ],
   "source": [
    "import modul_dene\n",
    "sonuc=modul_dene.daire_alanı(4)\n",
    "print(sonuc)"
   ]
  },
  {
   "cell_type": "code",
   "execution_count": 58,
   "id": "4b4b3b19",
   "metadata": {},
   "outputs": [
    {
     "name": "stdout",
     "output_type": "stream",
     "text": [
      "50.24\n"
     ]
    }
   ],
   "source": [
    "from modul_dene import daire_alanı\n",
    "sonuc=daire_alanı(4)\n",
    "print(sonuc)"
   ]
  },
  {
   "cell_type": "code",
   "execution_count": 59,
   "id": "6da5899f",
   "metadata": {},
   "outputs": [
    {
     "name": "stdout",
     "output_type": "stream",
     "text": [
      "49\n"
     ]
    }
   ],
   "source": [
    "\n",
    "import kare_ucgen_modul\n",
    "sonuc=kare_ucgen_modul.kare_alanı(7)\n",
    "print(sonuc)"
   ]
  },
  {
   "cell_type": "code",
   "execution_count": 60,
   "id": "044ae0ef",
   "metadata": {},
   "outputs": [
    {
     "name": "stdout",
     "output_type": "stream",
     "text": [
      "17.5\n"
     ]
    }
   ],
   "source": [
    "import kare_ucgen_modul\n",
    "sonuc=kare_ucgen_modul.ücgen_alanı(7,5)\n",
    "print(sonuc)"
   ]
  },
  {
   "cell_type": "code",
   "execution_count": 61,
   "id": "7ca49778",
   "metadata": {},
   "outputs": [
    {
     "name": "stdout",
     "output_type": "stream",
     "text": [
      "0.4324788909504237\n",
      "0.18637128295558203\n",
      "0.6843876603872582\n",
      "0.5447470960135726\n",
      "0.4247745315972591\n",
      "0.09205565197447474\n",
      "0.27553467489011363\n",
      "0.6925520013372487\n",
      "0.6856462925810926\n",
      "0.4804789463874938\n"
     ]
    }
   ],
   "source": [
    "#en sık kullanılan fonskiyonlar modülde cok fazla fonk var\n",
    "#random uniform fonk\n",
    "#randint ve randrange\n",
    "#choice,shuffle ve sample\n",
    "import random\n",
    "\n",
    "for i in range(10):\n",
    "    print(random.random()) #0 ile 1 aralığında ranstgele ondalk sayı üretir\n"
   ]
  },
  {
   "cell_type": "code",
   "execution_count": 62,
   "id": "22d8d2e3",
   "metadata": {},
   "outputs": [
    {
     "name": "stdout",
     "output_type": "stream",
     "text": [
      "29.837171006407146\n",
      "17.747799579244948\n",
      "13.56129798718252\n",
      "13.255721072955843\n",
      "23.280179932811762\n"
     ]
    }
   ],
   "source": [
    "import random\n",
    "\n",
    "for i in range(5):\n",
    "    print(random.uniform(10,30)) #10 ile 30 aralığında ranstgele ondalk sayı üretir, ondalık sayı dikkat\n"
   ]
  },
  {
   "cell_type": "code",
   "execution_count": 63,
   "id": "0b48985c",
   "metadata": {},
   "outputs": [
    {
     "name": "stdout",
     "output_type": "stream",
     "text": [
      "3\n",
      "2\n",
      "2\n",
      "2\n",
      "2\n",
      "1\n",
      "2\n",
      "2\n",
      "4\n",
      "2\n"
     ]
    }
   ],
   "source": [
    "import random\n",
    "\n",
    "for i in range(10):\n",
    "    print(random.randint(1,5)) #normalde 1 dahil 5 değil olur ama ranintte farklı bunların ikisi de dahil\n"
   ]
  },
  {
   "cell_type": "code",
   "execution_count": 18,
   "id": "c5b98302",
   "metadata": {},
   "outputs": [
    {
     "name": "stdout",
     "output_type": "stream",
     "text": [
      "1\n",
      "7\n",
      "5\n",
      "3\n",
      "9\n",
      "7\n",
      "3\n",
      "5\n",
      "5\n",
      "7\n"
     ]
    }
   ],
   "source": [
    "import random\n",
    "\n",
    "for i in range(10):\n",
    "    print(random.randrange(1,10,2)) #üç parametre alıyor. 1 ile başla 1,3,5,7,9 dan random üret"
   ]
  },
  {
   "cell_type": "code",
   "execution_count": 64,
   "id": "6d71d45b",
   "metadata": {},
   "outputs": [
    {
     "name": "stdout",
     "output_type": "stream",
     "text": [
      "7\n",
      "7\n",
      "1\n",
      "1\n",
      "1\n",
      "4\n",
      "1\n",
      "7\n",
      "1\n",
      "4\n"
     ]
    }
   ],
   "source": [
    "import random\n",
    "\n",
    "for i in range(10):\n",
    "    print(random.randrange(1,10,3)) #belirli bir miktar artıyor #üç parametre alıyor. 1 ile başla 1,3,5,7,9 dan random üret..1 4 7 10. Burda 10 dahil değil"
   ]
  },
  {
   "cell_type": "code",
   "execution_count": 22,
   "id": "573ad052",
   "metadata": {},
   "outputs": [
    {
     "name": "stdout",
     "output_type": "stream",
     "text": [
      "5\n",
      "9\n",
      "8\n",
      "7\n",
      "3\n",
      "9\n",
      "9\n",
      "8\n",
      "2\n",
      "3\n"
     ]
    }
   ],
   "source": [
    "import random\n",
    "\n",
    "for i in range(10):\n",
    "    print(random.randrange(1,10))#ne kadar aratcağı belii değil"
   ]
  },
  {
   "cell_type": "code",
   "execution_count": 25,
   "id": "7e7a672b",
   "metadata": {},
   "outputs": [
    {
     "name": "stdout",
     "output_type": "stream",
     "text": [
      "gri\n"
     ]
    }
   ],
   "source": [
    "\n",
    "liste=[\"siyah\",\"beyaz\",\"mor\",\"mavi\",\"yesil\",\"gri\",\"turuncu\"]\n",
    "print(random.choice(liste))  #listeden rastgele eleman seciyor, her sferinde farklı"
   ]
  },
  {
   "cell_type": "code",
   "execution_count": 29,
   "id": "d6c18a8b",
   "metadata": {},
   "outputs": [
    {
     "name": "stdout",
     "output_type": "stream",
     "text": [
      "['mavi', 'mor', 'yesil', 'turuncu', 'siyah', 'gri', 'beyaz']\n"
     ]
    }
   ],
   "source": [
    "liste=[\"siyah\",\"beyaz\",\"mor\",\"mavi\",\"yesil\",\"gri\",\"turuncu\"]\n",
    "random.shuffle(liste)\n",
    "print(liste) #listeyi karıştır demek"
   ]
  },
  {
   "cell_type": "code",
   "execution_count": 31,
   "id": "8bed025e",
   "metadata": {},
   "outputs": [
    {
     "name": "stdout",
     "output_type": "stream",
     "text": [
      "['turuncu', 'gri', 'mor']\n"
     ]
    }
   ],
   "source": [
    "liste=[\"siyah\",\"beyaz\",\"mor\",\"mavi\",\"yesil\",\"gri\",\"turuncu\"]\n",
    "print(random.sample(liste,3))  #verilen listeden istedğin kadar rastgele eleman seçme"
   ]
  },
  {
   "cell_type": "code",
   "execution_count": 54,
   "id": "1ecf5846",
   "metadata": {},
   "outputs": [
    {
     "name": "stdout",
     "output_type": "stream",
     "text": [
      "1 gelme olasılığı 0.14\n",
      "2 gelme olasılığı 0.2\n",
      "3 gelme olasılığı 0.23\n",
      "4 gelme olasılığı 0.14\n",
      "5 gelme olasılığı 0.17\n",
      "6 gelme olasılığı 0.12\n"
     ]
    }
   ],
   "source": [
    "import random\n",
    "#zar atılınca 1 gelme oalsılığı 1/6 pratikte de böyle mi\n",
    "#zarı 100 kere atıcan kaç kere 1 geldi\n",
    "\n",
    "zarlar={1:0,2:0,3:0,4:0,5:0,6:0} #sözlük key ve valuelardan oluşuyor. 1 0 kere var 2 0 kere var\n",
    "\n",
    "for i  in range(100):\n",
    "    zar=random.randint(1,6)\n",
    "    zarlar[zar]+=1\n",
    "    \n",
    "for zar in zarlar: #zar keylerin yerine geçiyor i yerinde olna\n",
    "    print(f\"{zar} gelme olasılığı {zarlar[zar]/100}\")\n",
    "    \n",
    "\n"
   ]
  },
  {
   "cell_type": "code",
   "execution_count": 53,
   "id": "90a41a16",
   "metadata": {},
   "outputs": [
    {
     "name": "stdout",
     "output_type": "stream",
     "text": [
      "10 kere 6-6  gelmesi için zarlar 287 kadar atıldı\n"
     ]
    }
   ],
   "source": [
    "import random #6 6 gelme olasılığı\n",
    "\n",
    "alti_alti=0\n",
    "deneme_sayısı=0\n",
    "\n",
    "while True: #benim belirlediğim koşul gerekleşene kadar devam et\n",
    "    deneme_sayısı=deneme_sayısı+1\n",
    "    zar1=random.randint(1,6)\n",
    "    zar2=random.randint(1,6)\n",
    "    if zar1==6 and zar2==6:\n",
    "        alti_alti+=1\n",
    "    if alti_alti==10:\n",
    "        print(f\"10 kere 6-6  gelmesi için zarlar {deneme_sayısı} kadar atıldı\")\n",
    "        break"
   ]
  },
  {
   "cell_type": "code",
   "execution_count": null,
   "id": "17154b2d",
   "metadata": {},
   "outputs": [],
   "source": []
  },
  {
   "cell_type": "code",
   "execution_count": null,
   "id": "df7060cc",
   "metadata": {},
   "outputs": [],
   "source": []
  }
 ],
 "metadata": {
  "kernelspec": {
   "display_name": "Python 3 (ipykernel)",
   "language": "python",
   "name": "python3"
  },
  "language_info": {
   "codemirror_mode": {
    "name": "ipython",
    "version": 3
   },
   "file_extension": ".py",
   "mimetype": "text/x-python",
   "name": "python",
   "nbconvert_exporter": "python",
   "pygments_lexer": "ipython3",
   "version": "3.11.5"
  }
 },
 "nbformat": 4,
 "nbformat_minor": 5
}
