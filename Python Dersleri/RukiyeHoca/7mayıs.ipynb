{
 "cells": [
  {
   "cell_type": "code",
   "execution_count": 1,
   "id": "1092d5d5",
   "metadata": {},
   "outputs": [
    {
     "name": "stdout",
     "output_type": "stream",
     "text": [
      "{'isim': 'ali', 'yas': '20', 'cinsiyet': 'm', 'hobiler': ['sinema', 'konser', 'yazılım']}\n"
     ]
    }
   ],
   "source": [
    "#NORMAL SÖZLÜK GİBİ DÜŞÜNÜNÜ PHYTON KEY VE VALUE DİYOR:\n",
    "\n",
    "#isim=key\n",
    "#ali=value\n",
    "#key=string veya integer olmak zorunda ama value hem string hem liste hem int olabilir.Value herşey olabilir\n",
    "\n",
    "kisi= {\"isim\": \"ali\",\"yas\":\"20\",\"cinsiyet\":\"m\",\"hobiler\":[\"sinema\", \"konser\",\"yazılım\"]}\n",
    "print(kisi)"
   ]
  },
  {
   "cell_type": "code",
   "execution_count": 2,
   "id": "2428044a",
   "metadata": {},
   "outputs": [
    {
     "name": "stdout",
     "output_type": "stream",
     "text": [
      "ali\n"
     ]
    }
   ],
   "source": [
    "print(kisi[\"isim\"])"
   ]
  },
  {
   "cell_type": "code",
   "execution_count": 3,
   "id": "505fce37",
   "metadata": {},
   "outputs": [
    {
     "name": "stdout",
     "output_type": "stream",
     "text": [
      "m\n"
     ]
    }
   ],
   "source": [
    "print(kisi[\"cinsiyet\"])"
   ]
  },
  {
   "cell_type": "code",
   "execution_count": 4,
   "id": "5e039f81",
   "metadata": {},
   "outputs": [
    {
     "name": "stdout",
     "output_type": "stream",
     "text": [
      "{'isim': 'ali', 'yas': '20', 'cinsiyet': 'm', 'hobiler': ['sinema', 'konser', 'yazılım']}\n"
     ]
    }
   ],
   "source": [
    "#eleman değiştirmek istersek\n",
    "print(kisi)"
   ]
  },
  {
   "cell_type": "code",
   "execution_count": 5,
   "id": "14eb2078",
   "metadata": {},
   "outputs": [
    {
     "name": "stdout",
     "output_type": "stream",
     "text": [
      "{'isim': 'Yiğit', 'yas': '20', 'cinsiyet': 'm', 'hobiler': ['sinema', 'konser', 'yazılım']}\n"
     ]
    }
   ],
   "source": [
    "#sözlükte eleman güncelleme\n",
    "kisi[\"isim\"]=\"Yiğit\"\n",
    "print(kisi)"
   ]
  },
  {
   "cell_type": "code",
   "execution_count": 7,
   "id": "cf4c150a",
   "metadata": {},
   "outputs": [
    {
     "name": "stdout",
     "output_type": "stream",
     "text": [
      "{'isim': 'Ege', 'yas': 3, 'cinsiyet': 'm', 'hobiler': ['sinema', 'konser', 'yazılım']}\n"
     ]
    }
   ],
   "source": [
    "#hem isim mesela hem cinsiyet güncellersek(aynı anda iki alan değiştirmek)\n",
    "\n",
    "kisi.update({\"isim\":\"Ege\", \"yas\":3})\n",
    "print(kisi)"
   ]
  },
  {
   "cell_type": "code",
   "execution_count": 10,
   "id": "63315d4c",
   "metadata": {},
   "outputs": [
    {
     "name": "stdout",
     "output_type": "stream",
     "text": [
      "{'isim': 'Ege', 'yas': 3, 'cinsiyet': 'm', 'hobiler': ['sinema', 'konser', 'yazılım'], 'id': 9876543}\n"
     ]
    }
   ],
   "source": [
    "#tc numarası eklesek\n",
    "\n",
    "kisi[\"id\"]=9876543\n",
    "print(kisi)"
   ]
  },
  {
   "cell_type": "code",
   "execution_count": 11,
   "id": "6a0b2b1d",
   "metadata": {},
   "outputs": [
    {
     "name": "stdout",
     "output_type": "stream",
     "text": [
      "{'isim': 'Ege', 'yas': 3, 'cinsiyet': 'm', 'hobiler': ['sinema', 'konser', 'yazılım']}\n"
     ]
    }
   ],
   "source": [
    "#eğer bu id yi silmek istersek\n",
    "del kisi[\"id\"]\n",
    "print(kisi)"
   ]
  },
  {
   "cell_type": "code",
   "execution_count": 12,
   "id": "8b7e02d6",
   "metadata": {},
   "outputs": [
    {
     "name": "stdout",
     "output_type": "stream",
     "text": [
      "isim\n",
      "yas\n",
      "cinsiyet\n",
      "hobiler\n"
     ]
    }
   ],
   "source": [
    "#sözlüğü for döngüüs ile yazdırmak (keyleri yazdırmak)\n",
    "\n",
    "for x in kisi:\n",
    "    print(x)"
   ]
  },
  {
   "cell_type": "code",
   "execution_count": 14,
   "id": "f017a793",
   "metadata": {},
   "outputs": [
    {
     "name": "stdout",
     "output_type": "stream",
     "text": [
      "dict_keys(['isim', 'yas', 'cinsiyet', 'hobiler'])\n"
     ]
    }
   ],
   "source": [
    "print(kisi.keys())"
   ]
  },
  {
   "cell_type": "code",
   "execution_count": 13,
   "id": "8de8fd56",
   "metadata": {},
   "outputs": [
    {
     "name": "stdout",
     "output_type": "stream",
     "text": [
      "Ege\n",
      "3\n",
      "m\n",
      "['sinema', 'konser', 'yazılım']\n"
     ]
    }
   ],
   "source": [
    "#valuelar yazılıyor\n",
    "for x in kisi:\n",
    "    print(kisi[x])"
   ]
  },
  {
   "cell_type": "code",
   "execution_count": 15,
   "id": "afda96d4",
   "metadata": {},
   "outputs": [
    {
     "name": "stdout",
     "output_type": "stream",
     "text": [
      "dict_values(['Ege', 3, 'm', ['sinema', 'konser', 'yazılım']])\n"
     ]
    }
   ],
   "source": [
    "print(kisi.values())"
   ]
  },
  {
   "cell_type": "code",
   "execution_count": 16,
   "id": "e867c6fc",
   "metadata": {},
   "outputs": [
    {
     "name": "stdout",
     "output_type": "stream",
     "text": [
      "dict_items([('isim', 'Ege'), ('yas', 3), ('cinsiyet', 'm'), ('hobiler', ['sinema', 'konser', 'yazılım'])])\n"
     ]
    }
   ],
   "source": [
    "print(kisi.items())"
   ]
  },
  {
   "cell_type": "code",
   "execution_count": 18,
   "id": "3aabb8c1",
   "metadata": {},
   "outputs": [
    {
     "name": "stdout",
     "output_type": "stream",
     "text": [
      "('isim', 'Ege')\n",
      "('yas', 3)\n",
      "('cinsiyet', 'm')\n",
      "('hobiler', ['sinema', 'konser', 'yazılım'])\n"
     ]
    }
   ],
   "source": [
    "for k in kisi.items():\n",
    "    print(k)"
   ]
  },
  {
   "cell_type": "code",
   "execution_count": 19,
   "id": "514a7edd",
   "metadata": {},
   "outputs": [
    {
     "name": "stdout",
     "output_type": "stream",
     "text": [
      "isim Ege\n",
      "yas 3\n",
      "cinsiyet m\n",
      "hobiler ['sinema', 'konser', 'yazılım']\n"
     ]
    }
   ],
   "source": [
    "# k anahtar v value\n",
    "for k,v in kisi.items():\n",
    "    print(k,v)"
   ]
  },
  {
   "cell_type": "code",
   "execution_count": 22,
   "id": "9d44f253",
   "metadata": {},
   "outputs": [
    {
     "ename": "KeyError",
     "evalue": "'id'",
     "output_type": "error",
     "traceback": [
      "\u001b[1;31m---------------------------------------------------------------------------\u001b[0m",
      "\u001b[1;31mKeyError\u001b[0m                                  Traceback (most recent call last)",
      "Cell \u001b[1;32mIn[22], line 1\u001b[0m\n\u001b[1;32m----> 1\u001b[0m \u001b[38;5;28mprint\u001b[39m(kisi[\u001b[38;5;124m\"\u001b[39m\u001b[38;5;124mid\u001b[39m\u001b[38;5;124m\"\u001b[39m])\n",
      "\u001b[1;31mKeyError\u001b[0m: 'id'"
     ]
    }
   ],
   "source": [
    "print(kisi[\"id\"])"
   ]
  },
  {
   "cell_type": "code",
   "execution_count": 23,
   "id": "cc0a17ab",
   "metadata": {},
   "outputs": [
    {
     "name": "stdout",
     "output_type": "stream",
     "text": [
      "None\n"
     ]
    }
   ],
   "source": [
    "print(kisi.get(\"id\")) $yoksa o eleman none değerini döndürüyor"
   ]
  },
  {
   "cell_type": "code",
   "execution_count": 24,
   "id": "f8cd21ed",
   "metadata": {},
   "outputs": [
    {
     "name": "stdout",
     "output_type": "stream",
     "text": [
      "['sinema', 'konser', 'yazılım']\n"
     ]
    }
   ],
   "source": [
    "print(kisi.get(\"hobiler\"))"
   ]
  },
  {
   "cell_type": "code",
   "execution_count": 25,
   "id": "8ae6ecf6",
   "metadata": {},
   "outputs": [
    {
     "name": "stdout",
     "output_type": "stream",
     "text": [
      "3\n"
     ]
    }
   ],
   "source": [
    "print(kisi.get(\"yas\")) #varsa değeri verir"
   ]
  },
  {
   "cell_type": "code",
   "execution_count": 26,
   "id": "5c4a49cd",
   "metadata": {},
   "outputs": [
    {
     "name": "stdout",
     "output_type": "stream",
     "text": [
      "bulunamadı\n"
     ]
    }
   ],
   "source": [
    "print(kisi.get(\"id\",\"bulunamadı\")) #yoksa böyle verir"
   ]
  },
  {
   "cell_type": "code",
   "execution_count": 27,
   "id": "e491bd4e",
   "metadata": {},
   "outputs": [],
   "source": [
    "##MODULLER\n",
    "\n",
    "#COOK KULLANILAN FONKSIYONLARIN BIR ARAYA GETIRMESIYLE OLUŞAN PAKET\n",
    "\n",
    "#mesela faktöriyel"
   ]
  },
  {
   "cell_type": "code",
   "execution_count": 29,
   "id": "72d1c21d",
   "metadata": {},
   "outputs": [
    {
     "name": "stdout",
     "output_type": "stream",
     "text": [
      "720\n"
     ]
    }
   ],
   "source": [
    "import math\n",
    "sonuc=math.factorial(6)\n",
    "print(sonuc)"
   ]
  },
  {
   "cell_type": "code",
   "execution_count": 31,
   "id": "64e1ef3c",
   "metadata": {},
   "outputs": [
    {
     "name": "stdout",
     "output_type": "stream",
     "text": [
      "8.0\n"
     ]
    }
   ],
   "source": [
    "sonuc=math.sqrt(64)\n",
    "print(sonuc)"
   ]
  },
  {
   "cell_type": "code",
   "execution_count": 32,
   "id": "7cb0120e",
   "metadata": {},
   "outputs": [
    {
     "name": "stdout",
     "output_type": "stream",
     "text": [
      "65.0\n"
     ]
    }
   ],
   "source": [
    "sonuc=math.fabs(65)\n",
    "print(sonuc)"
   ]
  },
  {
   "cell_type": "code",
   "execution_count": 37,
   "id": "210301ab",
   "metadata": {},
   "outputs": [
    {
     "name": "stdout",
     "output_type": "stream",
     "text": [
      "65\n"
     ]
    }
   ],
   "source": [
    "sonuc=math.fabs(-65)\n",
    "print(int(sonuc))   #int almak istersen böyle"
   ]
  },
  {
   "cell_type": "code",
   "execution_count": 38,
   "id": "9890c8b4",
   "metadata": {},
   "outputs": [
    {
     "name": "stdout",
     "output_type": "stream",
     "text": [
      "24\n"
     ]
    }
   ],
   "source": [
    "from math import factorial\n",
    "\n",
    "sonuc=factorial(4)\n",
    "print(sonuc)"
   ]
  },
  {
   "cell_type": "code",
   "execution_count": 39,
   "id": "733146ba",
   "metadata": {},
   "outputs": [
    {
     "name": "stdout",
     "output_type": "stream",
     "text": [
      "720\n"
     ]
    }
   ],
   "source": [
    "from math import factorial,sqrt\n",
    "\n",
    "sonuc=factorial(6)\n",
    "print(sonuc)                #burada math modülünün tamamını import etmiyorsun o yzüden mah. yazmıyuorsun"
   ]
  },
  {
   "cell_type": "code",
   "execution_count": null,
   "id": "d9773874",
   "metadata": {},
   "outputs": [],
   "source": [
    "from math import*\n",
    "sonuc=sqrt()\n",
    "sonuc=factorial()\n",
    "sonuc=fabs()                   #burada math modülünün tamamını import etmiyorsun o yzüden mah. yazmıyuorsun yıldız ile de kullanbilirsin"
   ]
  },
  {
   "cell_type": "code",
   "execution_count": 4,
   "id": "bfeb7688",
   "metadata": {},
   "outputs": [
    {
     "name": "stdout",
     "output_type": "stream",
     "text": [
      "25.12\n"
     ]
    }
   ],
   "source": [
    "import modul_dene\n",
    "sonuc=modul_dene.cember_cevresi(4)\n",
    "print(sonuc)"
   ]
  },
  {
   "cell_type": "code",
   "execution_count": 6,
   "id": "d00481c4",
   "metadata": {},
   "outputs": [
    {
     "name": "stdout",
     "output_type": "stream",
     "text": [
      "50.24\n"
     ]
    }
   ],
   "source": [
    "import modul_dene\n",
    "sonuc=modul_dene.daire_alanı(4)\n",
    "print(sonuc)"
   ]
  },
  {
   "cell_type": "code",
   "execution_count": 10,
   "id": "641bec8c",
   "metadata": {},
   "outputs": [
    {
     "name": "stdout",
     "output_type": "stream",
     "text": [
      "50.24\n"
     ]
    }
   ],
   "source": [
    "from modul_dene import daire_alanı\n",
    "sonuc=daire_alanı(4)\n",
    "print(sonuc)"
   ]
  },
  {
   "cell_type": "code",
   "execution_count": 9,
   "id": "5f1be3de",
   "metadata": {},
   "outputs": [
    {
     "name": "stdout",
     "output_type": "stream",
     "text": [
      "50.24\n"
     ]
    }
   ],
   "source": [
    "#ismi kısaltma\n",
    "\n",
    "import modul_dene as md\n",
    "sonuc=md.daire_alanı(4)\n",
    "print(sonuc)"
   ]
  },
  {
   "cell_type": "code",
   "execution_count": null,
   "id": "7a5e41c0",
   "metadata": {},
   "outputs": [],
   "source": [
    "import os\n",
    "import time\n",
    "import datetime\n",
    "import selenium"
   ]
  }
 ],
 "metadata": {
  "kernelspec": {
   "display_name": "Python 3 (ipykernel)",
   "language": "python",
   "name": "python3"
  },
  "language_info": {
   "codemirror_mode": {
    "name": "ipython",
    "version": 3
   },
   "file_extension": ".py",
   "mimetype": "text/x-python",
   "name": "python",
   "nbconvert_exporter": "python",
   "pygments_lexer": "ipython3",
   "version": "3.11.5"
  }
 },
 "nbformat": 4,
 "nbformat_minor": 5
}
