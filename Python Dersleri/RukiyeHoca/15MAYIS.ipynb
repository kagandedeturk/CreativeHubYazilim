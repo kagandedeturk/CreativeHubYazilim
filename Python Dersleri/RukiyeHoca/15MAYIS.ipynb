{
 "cells": [
  {
   "cell_type": "code",
   "execution_count": 1,
   "id": "f7669146",
   "metadata": {},
   "outputs": [
    {
     "name": "stdout",
     "output_type": "stream",
     "text": [
      "C:\\Users\\Acer\n"
     ]
    }
   ],
   "source": [
    "#OS modülü işletim sistemi ile ilgili fonskiyon barındıran modül dosaydda gezin klasör içeriği yeniden aflandır\n",
    "import os\n",
    "print(os.getcwd()) #bilgisayarda hangi klasördeyiz onu gösterir"
   ]
  },
  {
   "cell_type": "code",
   "execution_count": 5,
   "id": "d808ce72",
   "metadata": {},
   "outputs": [
    {
     "name": "stdout",
     "output_type": "stream",
     "text": [
      "C:\\Users\\Acer\\Desktop\\Programlama Dersler\n"
     ]
    }
   ],
   "source": [
    "os.chdir(\"C:\\\\Users\\\\Acer\\\\Desktop\\\\Programlama Dersler\") #change directory\n",
    "print(os.getcwd())"
   ]
  },
  {
   "cell_type": "code",
   "execution_count": 6,
   "id": "7cf2325e",
   "metadata": {},
   "outputs": [
    {
     "name": "stdout",
     "output_type": "stream",
     "text": [
      "['C ve C++ Programlama - Deitel.pdf', 'C_Programlama_Dili.pdf', 'Ders-1.ppt', 'Ders-2.pptx', 'Ders-3.pptx', 'Ders-4.pptx', 'Ders-5.pptx', 'Ders10.ppt', 'Ders11.ppt', 'Ders12.ppt', 'Ders7.pptx', 'Ders8.ppt', 'Ders9.pptx']\n"
     ]
    }
   ],
   "source": [
    "#klasör içeriği görüntüleme\n",
    "print(os.listdir()) "
   ]
  },
  {
   "cell_type": "code",
   "execution_count": 7,
   "id": "415949d8",
   "metadata": {},
   "outputs": [
    {
     "name": "stdout",
     "output_type": "stream",
     "text": [
      "['1-Bilgisayara Giriş-Donanım.ppt', '1-BİLGİSAYARA GİRİŞ ve DONANIM [Uyumluluk Modu].pdf', '1-BİLGİSAYARA GİRİŞ ve DONANIM.ppt', '2-İŞLETİM SİSTEMLERİ.ppt', '3-WINDOWS 7.ppt', '38ad9d17-c.pdf', 'BİLGİ VE İLETİŞİM TEKNOLOJİLERİ 2020-2021 DERS SUNUSU.pdf', 'Ders Notları-2014', 'excel-Egitim.pdf', 'Excel2010_Baslangic.pdf', 'powerpoint_2010.pdf', 'TBK2009_METU.pdf', 'Windows 7.pdf', 'Word2010_Baslangic.pdf', 'İşletim Sistemleri.pdf']\n"
     ]
    }
   ],
   "source": [
    "print(os.listdir(r\"C:\\Users\\Acer\\Desktop\\(Bilgisayar Kullanımı ders notları)\")) #içine parametre yazmazsan neredeyse o dosyanın içini görür,yoksa baska klasörün içini listeleyebilirsin"
   ]
  },
  {
   "cell_type": "code",
   "execution_count": 8,
   "id": "e664e524",
   "metadata": {},
   "outputs": [
    {
     "name": "stdout",
     "output_type": "stream",
     "text": [
      "C ve C++ Programlama - Deitel.pdf\n",
      "C_Programlama_Dili.pdf\n",
      "Ders-1.ppt\n",
      "Ders-2.pptx\n",
      "Ders-3.pptx\n",
      "Ders-4.pptx\n",
      "Ders-5.pptx\n",
      "Ders10.ppt\n",
      "Ders11.ppt\n",
      "Ders12.ppt\n",
      "Ders7.pptx\n",
      "Ders8.ppt\n",
      "Ders9.pptx\n"
     ]
    }
   ],
   "source": [
    "#daha kolay bir gösterim dosyaiçini for ile yazmak\n",
    "\n",
    "for dosya in os.listdir():\n",
    "    print(dosya)"
   ]
  },
  {
   "cell_type": "code",
   "execution_count": 9,
   "id": "db2d2974",
   "metadata": {},
   "outputs": [],
   "source": [
    "#yeni bir klasör oluşturma \n",
    "os.mkdir(\"rukiye\")"
   ]
  },
  {
   "cell_type": "code",
   "execution_count": 13,
   "id": "69cd228f",
   "metadata": {},
   "outputs": [],
   "source": [
    "#içiçe birden fazla klasör oluşturma\n",
    "\n",
    "os.makedirs(\"pazartesi/salı/çarşamba\") "
   ]
  },
  {
   "cell_type": "code",
   "execution_count": 14,
   "id": "aa6ec00c",
   "metadata": {},
   "outputs": [
    {
     "ename": "OSError",
     "evalue": "[WinError 145] Dizin boş değil: 'pazartesi'",
     "output_type": "error",
     "traceback": [
      "\u001b[1;31m---------------------------------------------------------------------------\u001b[0m",
      "\u001b[1;31mOSError\u001b[0m                                   Traceback (most recent call last)",
      "Cell \u001b[1;32mIn[14], line 2\u001b[0m\n\u001b[0;32m      1\u001b[0m \u001b[38;5;66;03m#silmek için yapılacaklar\u001b[39;00m\n\u001b[1;32m----> 2\u001b[0m os\u001b[38;5;241m.\u001b[39mrmdir(\u001b[38;5;124m\"\u001b[39m\u001b[38;5;124mpazartesi\u001b[39m\u001b[38;5;124m\"\u001b[39m)\n",
      "\u001b[1;31mOSError\u001b[0m: [WinError 145] Dizin boş değil: 'pazartesi'"
     ]
    }
   ],
   "source": [
    "#silmek için yapılacaklar\n",
    "os.rmdir(\"rukiye\") #remove"
   ]
  },
  {
   "cell_type": "code",
   "execution_count": 13,
   "id": "dca7b58f",
   "metadata": {},
   "outputs": [],
   "source": [
    "os.rmdir(\"deneme klasörü\") #tek klasör siler"
   ]
  },
  {
   "cell_type": "code",
   "execution_count": 15,
   "id": "7ce13e7c",
   "metadata": {},
   "outputs": [
    {
     "ename": "FileNotFoundError",
     "evalue": "[WinError 2] Sistem belirtilen dosyayı bulamıyor: 'pazartesi/çarşamba'",
     "output_type": "error",
     "traceback": [
      "\u001b[1;31m---------------------------------------------------------------------------\u001b[0m",
      "\u001b[1;31mFileNotFoundError\u001b[0m                         Traceback (most recent call last)",
      "Cell \u001b[1;32mIn[15], line 2\u001b[0m\n\u001b[0;32m      1\u001b[0m \u001b[38;5;66;03m#içiçe klasör silme\u001b[39;00m\n\u001b[1;32m----> 2\u001b[0m os\u001b[38;5;241m.\u001b[39mremovedirs(\u001b[38;5;124m\"\u001b[39m\u001b[38;5;124mpazartesi/çarşamba\u001b[39m\u001b[38;5;124m\"\u001b[39m)\n",
      "File \u001b[1;32m<frozen os>:243\u001b[0m, in \u001b[0;36mremovedirs\u001b[1;34m(name)\u001b[0m\n",
      "\u001b[1;31mFileNotFoundError\u001b[0m: [WinError 2] Sistem belirtilen dosyayı bulamıyor: 'pazartesi/çarşamba'"
     ]
    }
   ],
   "source": [
    "#içiçe klasör silme\n",
    "os.removedirs(\"pazartesi/salı/çarşamba\") #hepsini siler"
   ]
  },
  {
   "cell_type": "code",
   "execution_count": 19,
   "id": "c4eafea5",
   "metadata": {},
   "outputs": [
    {
     "name": "stdout",
     "output_type": "stream",
     "text": [
      "C:\\Users\\Acer\\Desktop\\Programlama Dersler\n"
     ]
    }
   ],
   "source": [
    "#yeniden adlandırma\n",
    "\n",
    "import os\n",
    "os.chdir(r\"C:\\Users\\Acer\\Desktop\\Programlama Dersler\") #change directory\n",
    "print(os.getcwd())\n"
   ]
  },
  {
   "cell_type": "code",
   "execution_count": 21,
   "id": "710a9036",
   "metadata": {},
   "outputs": [],
   "source": [
    "os.rename(\"C_Programlama_Dili.pdf\",\"OBISIS.pdf\")"
   ]
  },
  {
   "cell_type": "code",
   "execution_count": 22,
   "id": "fdd83f4c",
   "metadata": {},
   "outputs": [
    {
     "name": "stdout",
     "output_type": "stream",
     "text": [
      "C:\\Users\\Acer\\Desktop\\Programlama Dersler\n"
     ]
    }
   ],
   "source": [
    "print(os.getcwd()) "
   ]
  },
  {
   "cell_type": "code",
   "execution_count": 34,
   "id": "b38933c8",
   "metadata": {},
   "outputs": [],
   "source": [
    "os.rename(\"obisis.pdf\",\"OBIS.pdf\") #uzantısını da yazman lazım önemli"
   ]
  },
  {
   "cell_type": "code",
   "execution_count": 24,
   "id": "0eadd1b0",
   "metadata": {},
   "outputs": [
    {
     "name": "stdout",
     "output_type": "stream",
     "text": [
      "gecerli_klasör: C:\\Users\\Acer\\Desktop\\Programlama Dersler\n",
      "icindeki_klasörler: ['pazartesi']\n",
      "icindeki_dosyalar: ['C ve C++ Programlama - Deitel.pdf', 'Ders-1.ppt', 'Ders-2.pptx', 'Ders-3.pptx', 'Ders-4.pptx', 'Ders-5.pptx', 'Ders10.ppt', 'Ders11.ppt', 'Ders12.ppt', 'Ders7.pptx', 'Ders8.ppt', 'Ders9.pptx', 'OBISIS.pdf']\n",
      "gecerli_klasör: C:\\Users\\Acer\\Desktop\\Programlama Dersler\\pazartesi\n",
      "icindeki_klasörler: ['salı']\n",
      "icindeki_dosyalar: []\n",
      "gecerli_klasör: C:\\Users\\Acer\\Desktop\\Programlama Dersler\\pazartesi\\salı\n",
      "icindeki_klasörler: ['çarşamba']\n",
      "icindeki_dosyalar: []\n",
      "gecerli_klasör: C:\\Users\\Acer\\Desktop\\Programlama Dersler\\pazartesi\\salı\\çarşamba\n",
      "icindeki_klasörler: []\n",
      "icindeki_dosyalar: []\n"
     ]
    }
   ],
   "source": [
    "#bulunduğunuz dizinden başlayıp herşeyi listeler\n",
    "\n",
    "for gecerli_klasör, icindeki_klasörler,icindeki_dosyalar in os.walk(r\"C:\\Users\\Acer\\Desktop\\Programlama Dersler\"):\n",
    "    print(\"gecerli_klasör:\", gecerli_klasör)\n",
    "    print(\"icindeki_klasörler:\", icindeki_klasörler)\n",
    "    print(\"icindeki_dosyalar:\", icindeki_dosyalar)\n",
    "        "
   ]
  },
  {
   "cell_type": "code",
   "execution_count": 50,
   "id": "2b66ef5f",
   "metadata": {},
   "outputs": [
    {
     "name": "stdout",
     "output_type": "stream",
     "text": [
      "pazartesi\\salı\\OBIS.pdf\n"
     ]
    }
   ],
   "source": [
    "#dosya yolu oluşturma\n",
    "print(os.path.join(\"pazartesi\",\"salı\",\"OBIS.pdf\"))"
   ]
  },
  {
   "cell_type": "code",
   "execution_count": 52,
   "id": "5b02be4f",
   "metadata": {},
   "outputs": [
    {
     "name": "stdout",
     "output_type": "stream",
     "text": [
      "False\n"
     ]
    }
   ],
   "source": [
    "print(os.path.isfile(r\"C:\\Users\\HUAWEI\\Desktop\\TÜM DOSYALAR\\FEN_FAKÜLTESİ\"))"
   ]
  },
  {
   "cell_type": "code",
   "execution_count": null,
   "id": "6bbfef17",
   "metadata": {},
   "outputs": [],
   "source": []
  }
 ],
 "metadata": {
  "kernelspec": {
   "display_name": "Python 3 (ipykernel)",
   "language": "python",
   "name": "python3"
  },
  "language_info": {
   "codemirror_mode": {
    "name": "ipython",
    "version": 3
   },
   "file_extension": ".py",
   "mimetype": "text/x-python",
   "name": "python",
   "nbconvert_exporter": "python",
   "pygments_lexer": "ipython3",
   "version": "3.11.5"
  }
 },
 "nbformat": 4,
 "nbformat_minor": 5
}
