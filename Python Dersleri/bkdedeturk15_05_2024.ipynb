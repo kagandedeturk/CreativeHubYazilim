{
 "cells": [
  {
   "cell_type": "code",
   "execution_count": 1,
   "id": "1cec2e6d-5838-45aa-a013-3de5a63d8347",
   "metadata": {},
   "outputs": [],
   "source": [
    "k, v = ('isim', 'Kagan')"
   ]
  },
  {
   "cell_type": "code",
   "execution_count": 2,
   "id": "54f9449b-f27a-41ab-bcae-57a87bb3ff20",
   "metadata": {},
   "outputs": [
    {
     "name": "stdout",
     "output_type": "stream",
     "text": [
      "isim\n",
      "Kagan\n"
     ]
    }
   ],
   "source": [
    "print(k)\n",
    "print(v)"
   ]
  },
  {
   "cell_type": "code",
   "execution_count": 3,
   "id": "c8746dd6-4662-4b5d-831d-a4cba56f3735",
   "metadata": {},
   "outputs": [
    {
     "name": "stdout",
     "output_type": "stream",
     "text": [
      "isim\n",
      "Kagan\n"
     ]
    }
   ],
   "source": [
    "t = ('isim', 'Kagan')\n",
    "print(t[0])\n",
    "print(t[1])"
   ]
  },
  {
   "cell_type": "code",
   "execution_count": 4,
   "id": "9e78f613-3c2e-4a1a-94c2-5cdea12af5b8",
   "metadata": {},
   "outputs": [
    {
     "ename": "TypeError",
     "evalue": "'tuple' object does not support item assignment",
     "output_type": "error",
     "traceback": [
      "\u001b[1;31m---------------------------------------------------------------------------\u001b[0m",
      "\u001b[1;31mTypeError\u001b[0m                                 Traceback (most recent call last)",
      "Cell \u001b[1;32mIn[4], line 1\u001b[0m\n\u001b[1;32m----> 1\u001b[0m t[\u001b[38;5;241m1\u001b[39m] \u001b[38;5;241m=\u001b[39m \u001b[38;5;124m'\u001b[39m\u001b[38;5;124mBilge Kagan\u001b[39m\u001b[38;5;124m'\u001b[39m\n",
      "\u001b[1;31mTypeError\u001b[0m: 'tuple' object does not support item assignment"
     ]
    }
   ],
   "source": [
    "t[1] = 'Bilge Kagan'"
   ]
  },
  {
   "cell_type": "code",
   "execution_count": 5,
   "id": "afe7f46e-f9a9-496b-ba1c-14f59889c4b0",
   "metadata": {},
   "outputs": [],
   "source": [
    "t = ['isim', 'Kagan']\n",
    "t[1] = 'Bilge Kagan'"
   ]
  },
  {
   "cell_type": "code",
   "execution_count": 6,
   "id": "054757da-0bad-4a67-bb4c-5a52e6ad7b04",
   "metadata": {},
   "outputs": [
    {
     "data": {
      "text/plain": [
       "['isim', 'Bilge Kagan']"
      ]
     },
     "execution_count": 6,
     "metadata": {},
     "output_type": "execute_result"
    }
   ],
   "source": [
    "t"
   ]
  },
  {
   "cell_type": "code",
   "execution_count": 7,
   "id": "8287c6a7-9ff5-45f6-8753-752c0c552c80",
   "metadata": {},
   "outputs": [],
   "source": [
    "kisi= {\"isim\": \"ali\",\"yas\":\"20\",\"cinsiyet\":\"m\",\"hobiler\":[\"sinema\", \"konser\",\"yazılım\"]}"
   ]
  },
  {
   "cell_type": "code",
   "execution_count": 8,
   "id": "3470a93a-e697-4eef-86ce-74efa55ac54f",
   "metadata": {},
   "outputs": [
    {
     "data": {
      "text/plain": [
       "dict_keys(['isim', 'yas', 'cinsiyet', 'hobiler'])"
      ]
     },
     "execution_count": 8,
     "metadata": {},
     "output_type": "execute_result"
    }
   ],
   "source": [
    "kisi.keys()"
   ]
  },
  {
   "cell_type": "code",
   "execution_count": 9,
   "id": "455f5cb7-815b-43cf-aadc-b9afa91cb846",
   "metadata": {},
   "outputs": [
    {
     "data": {
      "text/plain": [
       "False"
      ]
     },
     "execution_count": 9,
     "metadata": {},
     "output_type": "execute_result"
    }
   ],
   "source": [
    "'id' in kisi"
   ]
  },
  {
   "cell_type": "code",
   "execution_count": 10,
   "id": "6d7609a7-88f7-45bf-8f5a-641976f4944c",
   "metadata": {},
   "outputs": [
    {
     "data": {
      "text/plain": [
       "True"
      ]
     },
     "execution_count": 10,
     "metadata": {},
     "output_type": "execute_result"
    }
   ],
   "source": [
    "'isim' in kisi"
   ]
  },
  {
   "cell_type": "code",
   "execution_count": 13,
   "id": "71549c62-432b-45fc-a0e1-d12066c9d719",
   "metadata": {},
   "outputs": [],
   "source": [
    "if 'id' not in kisi:\n",
    "    kisi['id'] = '1146562'"
   ]
  },
  {
   "cell_type": "code",
   "execution_count": 12,
   "id": "b6f7ec78-01c5-419f-b37b-87e8ea6d3c0f",
   "metadata": {},
   "outputs": [
    {
     "data": {
      "text/plain": [
       "True"
      ]
     },
     "execution_count": 12,
     "metadata": {},
     "output_type": "execute_result"
    }
   ],
   "source": [
    "'id' not in kisi"
   ]
  },
  {
   "cell_type": "code",
   "execution_count": 14,
   "id": "85792e0b-00f8-46d0-9431-bba2cbaa4acb",
   "metadata": {},
   "outputs": [
    {
     "data": {
      "text/plain": [
       "{'isim': 'ali',\n",
       " 'yas': '20',\n",
       " 'cinsiyet': 'm',\n",
       " 'hobiler': ['sinema', 'konser', 'yazılım'],\n",
       " 'id': '1146562'}"
      ]
     },
     "execution_count": 14,
     "metadata": {},
     "output_type": "execute_result"
    }
   ],
   "source": [
    "kisi"
   ]
  },
  {
   "cell_type": "code",
   "execution_count": 16,
   "id": "10f9235d-dfe8-4315-84f1-df63944954e2",
   "metadata": {},
   "outputs": [
    {
     "name": "stdout",
     "output_type": "stream",
     "text": [
      "120\n",
      "120\n"
     ]
    }
   ],
   "source": [
    "import MyMathModule as mmm\n",
    "import math\n",
    "\n",
    "print(mmm.faktoriyel(5))\n",
    "print(math.factorial(5))"
   ]
  },
  {
   "cell_type": "code",
   "execution_count": 20,
   "id": "36460ce5-c62d-4e9e-8122-5f507b8d2e2a",
   "metadata": {},
   "outputs": [
    {
     "name": "stdout",
     "output_type": "stream",
     "text": [
      "faktoriyel(6) = 720\n"
     ]
    },
    {
     "ename": "TypeError",
     "evalue": "'int' object is not iterable",
     "output_type": "error",
     "traceback": [
      "\u001b[1;31m---------------------------------------------------------------------------\u001b[0m",
      "\u001b[1;31mTypeError\u001b[0m                                 Traceback (most recent call last)",
      "Cell \u001b[1;32mIn[20], line 4\u001b[0m\n\u001b[0;32m      1\u001b[0m \u001b[38;5;28;01mfrom\u001b[39;00m \u001b[38;5;21;01mMyMathModule\u001b[39;00m \u001b[38;5;28;01mimport\u001b[39;00m faktoriyel, usHesapla, karekok\n\u001b[0;32m      3\u001b[0m \u001b[38;5;28mprint\u001b[39m(\u001b[38;5;124mf\u001b[39m\u001b[38;5;124m\"\u001b[39m\u001b[38;5;124mfaktoriyel(6) = \u001b[39m\u001b[38;5;132;01m{\u001b[39;00mfaktoriyel(\u001b[38;5;241m6\u001b[39m)\u001b[38;5;132;01m}\u001b[39;00m\u001b[38;5;124m\"\u001b[39m)\n\u001b[1;32m----> 4\u001b[0m \u001b[38;5;28mprint\u001b[39m(usHesapla(\u001b[38;5;241m2\u001b[39m,\u001b[38;5;241m3\u001b[39m))\n\u001b[0;32m      5\u001b[0m \u001b[38;5;28mprint\u001b[39m(karekok(\u001b[38;5;241m64\u001b[39m))\n",
      "File \u001b[1;32m~\\MyMathModule.py:9\u001b[0m, in \u001b[0;36musHesapla\u001b[1;34m(alt, ust)\u001b[0m\n\u001b[0;32m      7\u001b[0m \u001b[38;5;28;01mdef\u001b[39;00m \u001b[38;5;21musHesapla\u001b[39m(alt, ust):\n\u001b[0;32m      8\u001b[0m     sonuc \u001b[38;5;241m=\u001b[39m \u001b[38;5;241m1\u001b[39m\n\u001b[1;32m----> 9\u001b[0m     \u001b[38;5;28;01mfor\u001b[39;00m i \u001b[38;5;129;01min\u001b[39;00m ust:\n\u001b[0;32m     10\u001b[0m         sonuc \u001b[38;5;241m*\u001b[39m\u001b[38;5;241m=\u001b[39m alt\n\u001b[0;32m     11\u001b[0m     \u001b[38;5;28;01mreturn\u001b[39;00m sonuc\n",
      "\u001b[1;31mTypeError\u001b[0m: 'int' object is not iterable"
     ]
    }
   ],
   "source": [
    "from MyMathModule import faktoriyel, usHesapla, karekok\n",
    "\n",
    "print(f\"faktoriyel(6) = {faktoriyel(6)}\")\n",
    "print(usHesapla(2,3))\n",
    "print(karekok(64))"
   ]
  },
  {
   "cell_type": "code",
   "execution_count": 1,
   "id": "9a935bc6-0952-4ff0-a191-0dc098e008ed",
   "metadata": {},
   "outputs": [
    {
     "name": "stdout",
     "output_type": "stream",
     "text": [
      "faktoriyel(6) = 720\n",
      "8\n",
      "8.0\n"
     ]
    }
   ],
   "source": [
    "from MyMathModule import faktoriyel, usHesapla, karekok\n",
    "\n",
    "print(f\"faktoriyel(6) = {faktoriyel(6)}\")\n",
    "print(usHesapla(2,3))\n",
    "print(karekok(64))"
   ]
  },
  {
   "cell_type": "code",
   "execution_count": 2,
   "id": "510612c8-ec30-4960-87e4-57979c1b19a2",
   "metadata": {},
   "outputs": [
    {
     "name": "stdout",
     "output_type": "stream",
     "text": [
      "faktoriyel(6) = 720\n",
      "8\n",
      "8.0\n"
     ]
    }
   ],
   "source": [
    "from MyMathModule import *\n",
    "\n",
    "print(f\"faktoriyel(6) = {faktoriyel(6)}\")\n",
    "print(usHesapla(2,3))\n",
    "print(karekok(64))"
   ]
  },
  {
   "cell_type": "code",
   "execution_count": 4,
   "id": "ed13f3c6-baa9-48e6-bc4b-2672080b0b95",
   "metadata": {},
   "outputs": [
    {
     "name": "stdout",
     "output_type": "stream",
     "text": [
      "[19, 13, 15, 10, 19, 24]\n",
      "100 tane zarın 6 gelme ihtimalı: 0.24\n"
     ]
    }
   ],
   "source": [
    "import random as rnd\n",
    "\n",
    "liste = [0, 0, 0, 0, 0, 0]\n",
    "\n",
    "for _ in range(100):\n",
    "    rs = rnd.randint(1,6)\n",
    "    liste[rs-1] += 1\n",
    "\n",
    "print(liste)\n",
    "print(f\"100 tane zarın 6 gelme ihtimalı: {liste[5] / 100}\")"
   ]
  },
  {
   "cell_type": "code",
   "execution_count": 6,
   "id": "26955310-b2b4-488c-bfc9-2f6c0c0b981a",
   "metadata": {},
   "outputs": [
    {
     "name": "stdout",
     "output_type": "stream",
     "text": [
      "{1: 17, 2: 18, 3: 16, 4: 16, 5: 14, 6: 19}\n",
      "100 tane zarın 6 gelme ihtimalı: 0.19\n"
     ]
    }
   ],
   "source": [
    "import random as rnd\n",
    "\n",
    "zarlar = {1:0,2:0,3:0,4:0,5:0,6:0}\n",
    "\n",
    "for _ in range(100):\n",
    "    zar = rnd.randint(1,6)\n",
    "    zarlar[zar] += 1\n",
    "print(zarlar)\n",
    "print(f\"100 tane zarın 6 gelme ihtimalı: {zarlar[6] / 100}\")"
   ]
  },
  {
   "cell_type": "code",
   "execution_count": 7,
   "id": "8a1e735f-2735-4a34-b1e2-9d1f31ff7fe9",
   "metadata": {},
   "outputs": [
    {
     "name": "stdout",
     "output_type": "stream",
     "text": [
      "{3: 12, 1: 17, 2: 11, 4: 19, 6: 28, 5: 13}\n",
      "100 tane zarın 6 gelme ihtimalı: 0.28\n"
     ]
    }
   ],
   "source": [
    "import random as rnd\n",
    "\n",
    "zarlar = {}\n",
    "\n",
    "for _ in range(100):\n",
    "    zar = rnd.randint(1,6)\n",
    "    if zar in zarlar:\n",
    "        zarlar[zar] += 1\n",
    "    else:\n",
    "        zarlar[zar] = 1\n",
    "print(zarlar)\n",
    "print(f\"100 tane zarın 6 gelme ihtimalı: {zarlar[6] / 100}\")"
   ]
  },
  {
   "cell_type": "code",
   "execution_count": 9,
   "id": "13770fa5-d712-4134-99fb-4795caa0da93",
   "metadata": {},
   "outputs": [
    {
     "name": "stdout",
     "output_type": "stream",
     "text": [
      "30\n"
     ]
    }
   ],
   "source": [
    "import random as rnd\n",
    "sayac = 1\n",
    "while True:\n",
    "    zar1 = rnd.randint(1,6)\n",
    "    zar2 = rnd.randint(1,6)\n",
    "    if zar1 == 6 and zar2 == 6:\n",
    "        print(sayac)\n",
    "        break\n",
    "    sayac += 1"
   ]
  },
  {
   "cell_type": "code",
   "execution_count": null,
   "id": "ad9ca2c5-f33f-48e8-8df3-92f021dc971d",
   "metadata": {},
   "outputs": [],
   "source": [
    "import random as rnd\n",
    "sayac = 1\n",
    "zar1 = rnd.randint(1,6)\n",
    "zar2 = rnd.randint(1,6)\n",
    "while not(zar1 == 6 and zar2 == 6):\n",
    "    zar1 = rnd.randint(1,6)\n",
    "    zar2 = rnd.randint(1,6)\n",
    "    sayac += 1\n",
    "\n",
    "print(sayac)"
   ]
  },
  {
   "cell_type": "code",
   "execution_count": 11,
   "id": "704b65f2-730d-4a4e-94c4-bbfeffc48d52",
   "metadata": {},
   "outputs": [
    {
     "name": "stdout",
     "output_type": "stream",
     "text": [
      "{'2-2': 29, '1-1': 21, '5-5': 31, '3-3': 21, '4-4': 39, '6-6': 27}\n",
      "1000\n",
      "2-2 gelme olasılığı: 0.029\n"
     ]
    }
   ],
   "source": [
    "ikili = {}\n",
    "sayac = 0\n",
    "for _ in range(1000):\n",
    "    zar1 = rnd.randint(1,6)\n",
    "    zar2 = rnd.randint(1,6)\n",
    "    sayac += 1\n",
    "    if zar1 == zar2:\n",
    "        if f'{zar1}-{zar2}' in ikili:\n",
    "            ikili[f'{zar1}-{zar2}'] += 1\n",
    "        else:\n",
    "            ikili[f'{zar1}-{zar2}'] = 1\n",
    "\n",
    "print(ikili)\n",
    "\n",
    "print(sayac)\n",
    "print(f\"2-2 gelme olasılığı: {ikili['2-2'] / sayac}\")\n",
    "        "
   ]
  },
  {
   "cell_type": "code",
   "execution_count": null,
   "id": "5e2434f9-3716-4e17-b2d9-5ce28651b916",
   "metadata": {},
   "outputs": [],
   "source": []
  }
 ],
 "metadata": {
  "kernelspec": {
   "display_name": "Python 3 (ipykernel)",
   "language": "python",
   "name": "python3"
  },
  "language_info": {
   "codemirror_mode": {
    "name": "ipython",
    "version": 3
   },
   "file_extension": ".py",
   "mimetype": "text/x-python",
   "name": "python",
   "nbconvert_exporter": "python",
   "pygments_lexer": "ipython3",
   "version": "3.11.5"
  }
 },
 "nbformat": 4,
 "nbformat_minor": 5
}
