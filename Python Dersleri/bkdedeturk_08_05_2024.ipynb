{
 "cells": [
  {
   "cell_type": "code",
   "execution_count": null,
   "id": "39ea74d3-0b8c-4161-a403-78e97be1fbda",
   "metadata": {},
   "outputs": [],
   "source": [
    "python_dersi : {}\n",
    "key: öğrenci numarası\n",
    "value: {adı, soyad, tc, notlar: {vize, final}}\n",
    "\n",
    "yeni kayıt ekleme metodu (öğrenci no, dict)\n",
    "\n",
    "ortalama hesaplatma metodu (öğrenci no)\n",
    "\n",
    "harf notu hesaplatma metodu (ort)\n",
    "\n",
    "öğrenci listesini yazdır. (ortalama bilgisi, harf notu)"
   ]
  },
  {
   "cell_type": "code",
   "execution_count": null,
   "id": "a022ac7c-7aa5-4921-9612-eb9e81b91660",
   "metadata": {},
   "outputs": [],
   "source": [
    "python_dersi = {\n",
    "    \"1110310344\": {\n",
    "        'adi': \"Veysel\",\n",
    "        \"soyadi\": \"Kankılıç\",\n",
    "        \"tc\": \"23242243215\",\n",
    "        \"notlar\": {\n",
    "            \"vize\": 54,\n",
    "            \"final\": 70\n",
    "        }\n",
    "    }\n",
    "}"
   ]
  },
  {
   "cell_type": "code",
   "execution_count": 13,
   "id": "ce5f2702-9724-43a7-a3f7-1c8adcec3255",
   "metadata": {},
   "outputs": [],
   "source": [
    "def ekle(ders, ogr, ogr_no):\n",
    "    ders[ogr_no] = ogr\n",
    "\n",
    "def ortHesapla(ders, ogr_no):\n",
    "    ort = 0\n",
    "    if ogr_no in ders:\n",
    "        ogr = ders[ogr_no]\n",
    "        notlar = ogr['notlar']\n",
    "        vize = notlar['vize']\n",
    "        final = notlar['final']\n",
    "        ort = vize * 0.4 + final * 0.6\n",
    "    return ort\n",
    "\n",
    "def harfNotu(ort):\n",
    "    hn = \"\"\n",
    "    if ort > 90:\n",
    "        hn = \"AA\"\n",
    "    elif ort > 80:\n",
    "        hn = \"BA\"\n",
    "    elif ort > 70:\n",
    "        hn = \"BB\"\n",
    "    elif ort > 60:\n",
    "        hn = \"CB\"\n",
    "    elif ort > 50:\n",
    "        hn = \"CC\"\n",
    "    else:\n",
    "        hn = \"FF\"\n",
    "    return hn\n",
    "\n",
    "def yazdir(ders):\n",
    "    print(\"Adi\\t\\tSoyadi\\t\\tVize\\t\\tFinal\\t\\tOrtalama\\t\\tHarfNotu\")\n",
    "    for ogr_no in ders:\n",
    "        ogr = ders[ogr_no]\n",
    "        ad = ogr['adi']\n",
    "        soyad = ogr['soyadi']\n",
    "        notlar = ogr['notlar']\n",
    "        vize = notlar['vize']\n",
    "        final = notlar['final']\n",
    "        ort = ortHesapla(ders, ogr_no)\n",
    "        hn = harfNotu(ort)\n",
    "        print(f\"{ad}\\t\\t{soyad}\\t\\t{vize}\\t\\t{final}\\t\\t{ort}\\t\\t{hn}\")"
   ]
  },
  {
   "cell_type": "code",
   "execution_count": 2,
   "id": "7f785df4-c771-4abd-bff6-aaabfe4c4bae",
   "metadata": {},
   "outputs": [],
   "source": [
    "python_dersi = {}\n",
    "ogr1 = {\n",
    "    'adi': \"Veysel\",\n",
    "    \"soyadi\": \"Kankılıç\",\n",
    "    \"tc\": \"23242243215\",\n",
    "    \"notlar\": {\n",
    "        \"vize\": 54,\n",
    "        \"final\": 70\n",
    "     }\n",
    "}\n",
    "ekle(python_dersi, ogr1,\"1110310344\")"
   ]
  },
  {
   "cell_type": "code",
   "execution_count": 5,
   "id": "b4b82054-f722-4e6b-b572-efc5af49ac5d",
   "metadata": {},
   "outputs": [
    {
     "data": {
      "text/plain": [
       "{'1110310344': {'adi': 'Veysel',\n",
       "  'soyadi': 'Kankılıç',\n",
       "  'tc': '23242243215',\n",
       "  'notlar': {'vize': 54, 'final': 70}},\n",
       " '1110310347': {'adi': 'Ahmet',\n",
       "  'soyadi': 'Yagmur',\n",
       "  'tc': '23242243213',\n",
       "  'notlar': {'vize': 85, 'final': 70}}}"
      ]
     },
     "execution_count": 5,
     "metadata": {},
     "output_type": "execute_result"
    }
   ],
   "source": [
    "python_dersi"
   ]
  },
  {
   "cell_type": "code",
   "execution_count": 4,
   "id": "80fc36bf-2882-4660-81d2-f5877549d262",
   "metadata": {},
   "outputs": [],
   "source": [
    "ogr2 = {\n",
    "    'adi': \"Ahmet\",\n",
    "    \"soyadi\": \"Yagmur\",\n",
    "    \"tc\": \"23242243213\",\n",
    "    \"notlar\": {\n",
    "        \"vize\": 85,\n",
    "        \"final\": 70\n",
    "     }\n",
    "}\n",
    "\n",
    "ekle(python_dersi, ogr2,\"1110310347\")"
   ]
  },
  {
   "cell_type": "code",
   "execution_count": 8,
   "id": "2ea3d2c6-e2c2-4015-9a53-903256e48ff8",
   "metadata": {},
   "outputs": [],
   "source": [
    "ogr3 = {}\n",
    "ogr3['adi'] = \"Ömer\"\n",
    "ogr3['soyadi'] = \"Yagmur\"\n",
    "ogr3['notlar'] = {}\n",
    "ogr3['notlar']['vize']= 55\n",
    "ogr3['notlar']['final']= 45\n",
    "ekle(python_dersi, ogr3,\"1110310355\")"
   ]
  },
  {
   "cell_type": "code",
   "execution_count": 9,
   "id": "046046b9-bbed-4358-9b3d-bbcbcfa0fc69",
   "metadata": {},
   "outputs": [
    {
     "data": {
      "text/plain": [
       "{'1110310344': {'adi': 'Veysel',\n",
       "  'soyadi': 'Kankılıç',\n",
       "  'tc': '23242243215',\n",
       "  'notlar': {'vize': 54, 'final': 70}},\n",
       " '1110310347': {'adi': 'Ahmet',\n",
       "  'soyadi': 'Yagmur',\n",
       "  'tc': '23242243213',\n",
       "  'notlar': {'vize': 85, 'final': 70}},\n",
       " '1110310355': {'adi': 'Ömer',\n",
       "  'soyadi': 'Yagmur',\n",
       "  'notlar': {'vize': 55, 'final': 45}}}"
      ]
     },
     "execution_count": 9,
     "metadata": {},
     "output_type": "execute_result"
    }
   ],
   "source": [
    "python_dersi"
   ]
  },
  {
   "cell_type": "code",
   "execution_count": 14,
   "id": "2b572b81-3ccf-4900-a71b-7c8a1ced5a2d",
   "metadata": {},
   "outputs": [
    {
     "name": "stdout",
     "output_type": "stream",
     "text": [
      "Adi\t\tSoyadi\t\tVize\t\tFinal\t\tOrtalama\t\tHarfNotu\n",
      "Veysel\t\tKankılıç\t\t54\t\t70\t\t63.6\t\tCB\n",
      "Ahmet\t\tYagmur\t\t85\t\t70\t\t76.0\t\tBB\n",
      "Ömer\t\tYagmur\t\t55\t\t45\t\t49.0\t\tFF\n"
     ]
    }
   ],
   "source": [
    "yazdir(python_dersi)"
   ]
  },
  {
   "cell_type": "code",
   "execution_count": null,
   "id": "53f2ad16-19b8-450b-a9fe-d0c392168b6a",
   "metadata": {},
   "outputs": [],
   "source": []
  }
 ],
 "metadata": {
  "kernelspec": {
   "display_name": "Python 3 (ipykernel)",
   "language": "python",
   "name": "python3"
  },
  "language_info": {
   "codemirror_mode": {
    "name": "ipython",
    "version": 3
   },
   "file_extension": ".py",
   "mimetype": "text/x-python",
   "name": "python",
   "nbconvert_exporter": "python",
   "pygments_lexer": "ipython3",
   "version": "3.11.5"
  }
 },
 "nbformat": 4,
 "nbformat_minor": 5
}
